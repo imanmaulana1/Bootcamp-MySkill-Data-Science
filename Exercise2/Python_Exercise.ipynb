{
 "cells": [
  {
   "cell_type": "markdown",
   "metadata": {
    "id": "_K_vqspnm0zi"
   },
   "source": [
    "Asumsikan anda adalah data analyst di sebuah perusahaan X. Diberikan data penjualan dalam variabel `penjualan` di bawah dalam bentuk data struktur `list`, dimana index dalam list merepresentasikan bulan penjualan dimulai dari januari (0=januari, 1=februari, dst)"
   ]
  },
  {
   "cell_type": "code",
   "execution_count": 1,
   "metadata": {
    "id": "3A9YzDU9nQSj"
   },
   "outputs": [],
   "source": [
    "penjualan = [20, 22, 28, 35, 45, 60, 65, 64, 50, 52, 57, 60]"
   ]
  },
  {
   "cell_type": "markdown",
   "metadata": {
    "id": "vx8AJwTtC6QY"
   },
   "source": [
    "## Question 1\n",
    "Berapa penjualan bulan November?"
   ]
  },
  {
   "cell_type": "code",
   "execution_count": 2,
   "metadata": {
    "colab": {
     "base_uri": "https://localhost:8080/",
     "height": 131
    },
    "id": "pdNYVjhuC03r",
    "outputId": "2557c60e-a57f-44a3-9490-39aef8e151f9"
   },
   "outputs": [
    {
     "name": "stdout",
     "output_type": "stream",
     "text": [
      "Penjualan bulan november adalah 57\n"
     ]
    }
   ],
   "source": [
    "# akses komponen penjualan dengan menggunakan index pada list\n",
    "penjualan_november = penjualan[10]\n",
    "print(\"Penjualan bulan november adalah\", penjualan_november)"
   ]
  },
  {
   "cell_type": "markdown",
   "metadata": {
    "id": "Yvkb1xUaofa-"
   },
   "source": [
    "## Question 2\n",
    "Berapa pertumbuhan penjualan dari bulan maret ke april?\n",
    "Kalikan 100 untuk menampilkannya dalam persentase."
   ]
  },
  {
   "cell_type": "code",
   "execution_count": 3,
   "metadata": {
    "colab": {
     "base_uri": "https://localhost:8080/"
    },
    "id": "gqvhwf3YoeQU",
    "outputId": "159ecb32-19f7-4e8d-900c-0a9d600c8462"
   },
   "outputs": [
    {
     "name": "stdout",
     "output_type": "stream",
     "text": [
      "Pertumbuhan penjualan dari maret ke april 25.0 %\n"
     ]
    }
   ],
   "source": [
    "# formula untuk growth = (nilai_akhir - nilai_awal) * 100 / nilai_awal\n",
    "growth =  (penjualan[3] - penjualan[2]) * 100/penjualan[2]\n",
    "print(\"Pertumbuhan penjualan dari maret ke april\", growth, \"%\")"
   ]
  },
  {
   "cell_type": "markdown",
   "metadata": {
    "id": "Hqdsz4nBCAzm"
   },
   "source": [
    "## Question 3\n",
    "Dengan menggunakan loop, buatlah pernyataan pertumbuhan penjualan tiap bulannya. "
   ]
  },
  {
   "cell_type": "code",
   "execution_count": 4,
   "metadata": {
    "id": "BUACyCbrCAX-"
   },
   "outputs": [
    {
     "name": "stdout",
     "output_type": "stream",
     "text": [
      "Pertumbuhan bulan ke- 2 adalah 10.0 %\n",
      "Pertumbuhan bulan ke- 3 adalah 27.272727272727273 %\n",
      "Pertumbuhan bulan ke- 4 adalah 25.0 %\n",
      "Pertumbuhan bulan ke- 5 adalah 28.571428571428573 %\n",
      "Pertumbuhan bulan ke- 6 adalah 33.333333333333336 %\n",
      "Pertumbuhan bulan ke- 7 adalah 8.333333333333334 %\n",
      "Pertumbuhan bulan ke- 8 adalah -1.5384615384615385 %\n",
      "Pertumbuhan bulan ke- 9 adalah -21.875 %\n",
      "Pertumbuhan bulan ke- 10 adalah 4.0 %\n",
      "Pertumbuhan bulan ke- 11 adalah 9.615384615384615 %\n",
      "Pertumbuhan bulan ke- 12 adalah 5.2631578947368425 %\n"
     ]
    }
   ],
   "source": [
    "# masukkan code disini, bisa melengkapi code dibawah, atau boleh buat dari awal\n",
    "# boleh juga menggunakan variable tambahan yang didefinisi sendiri \n",
    "for i, data in enumerate(penjualan):\n",
    "    if (i>0):\n",
    "        growth = growth = (penjualan[i] - penjualan[i-1]) * 100/penjualan[i-1]\n",
    "        print(\"Pertumbuhan bulan ke-\", i+1,\"adalah\", growth, \"%\")"
   ]
  },
  {
   "cell_type": "markdown",
   "metadata": {
    "id": "SdJr_z-3D51O"
   },
   "source": [
    "## Question 4\n",
    "Buatlah fungsi dengan argumen `penjualan` dan `index_bulan`, yang menghasilkan output pertumbuhan penjualan pada bulan tersebut. Ingat index pada bulan januari (index 0) tidak memiliki nilai pertumbuhan penjualan. "
   ]
  },
  {
   "cell_type": "code",
   "execution_count": 5,
   "metadata": {
    "id": "oAhBJFCMD5Ko"
   },
   "outputs": [
    {
     "name": "stdout",
     "output_type": "stream",
     "text": [
      "Belum ada\n",
      "Pertumbuhan MoM penjualan bulan 0 adalah None\n"
     ]
    }
   ],
   "source": [
    "def hitung_pertumbuhan(penjualan, index_bulan):\n",
    "  # code disini\n",
    "    if index_bulan > 0:\n",
    "        for i, data in enumerate(penjualan):\n",
    "            growth = (penjualan[index_bulan] - penjualan[index_bulan-1]) * 100/penjualan[index_bulan-1]\n",
    "  \n",
    "            return growth\n",
    "    else:\n",
    "        print(\"Belum ada\")\n",
    "\n",
    "index_bulan = 0\n",
    "print(\"Pertumbuhan MoM penjualan bulan\", index_bulan, \"adalah\", hitung_pertumbuhan(penjualan, index_bulan))"
   ]
  },
  {
   "cell_type": "markdown",
   "metadata": {
    "id": "2fLz4MkgFAGx"
   },
   "source": [
    "## Question 5\n",
    "Dikarenakan bisnis menginginkan data ditampilkan dalam bentuk tabel, pahami metode pembuatan dataframe dari penjualan berikut. (task ada dibawah setelah pendefinisian dataframe)"
   ]
  },
  {
   "cell_type": "code",
   "execution_count": 6,
   "metadata": {
    "id": "18lWdN7TFfOF"
   },
   "outputs": [],
   "source": [
    "from datetime import datetime\n",
    "import pandas as pd"
   ]
  },
  {
   "cell_type": "code",
   "execution_count": 7,
   "metadata": {
    "colab": {
     "base_uri": "https://localhost:8080/",
     "height": 426
    },
    "id": "07K8in6tE4iV",
    "outputId": "4789b024-455b-45c8-e445-bc470e86363e"
   },
   "outputs": [
    {
     "data": {
      "text/html": [
       "<div>\n",
       "<style scoped>\n",
       "    .dataframe tbody tr th:only-of-type {\n",
       "        vertical-align: middle;\n",
       "    }\n",
       "\n",
       "    .dataframe tbody tr th {\n",
       "        vertical-align: top;\n",
       "    }\n",
       "\n",
       "    .dataframe thead th {\n",
       "        text-align: right;\n",
       "    }\n",
       "</style>\n",
       "<table border=\"1\" class=\"dataframe\">\n",
       "  <thead>\n",
       "    <tr style=\"text-align: right;\">\n",
       "      <th></th>\n",
       "      <th>periode</th>\n",
       "      <th>penjualan</th>\n",
       "    </tr>\n",
       "  </thead>\n",
       "  <tbody>\n",
       "    <tr>\n",
       "      <th>0</th>\n",
       "      <td>2021-01-31</td>\n",
       "      <td>20</td>\n",
       "    </tr>\n",
       "    <tr>\n",
       "      <th>1</th>\n",
       "      <td>2021-02-28</td>\n",
       "      <td>22</td>\n",
       "    </tr>\n",
       "    <tr>\n",
       "      <th>2</th>\n",
       "      <td>2021-03-31</td>\n",
       "      <td>28</td>\n",
       "    </tr>\n",
       "    <tr>\n",
       "      <th>3</th>\n",
       "      <td>2021-04-30</td>\n",
       "      <td>35</td>\n",
       "    </tr>\n",
       "    <tr>\n",
       "      <th>4</th>\n",
       "      <td>2021-05-31</td>\n",
       "      <td>45</td>\n",
       "    </tr>\n",
       "    <tr>\n",
       "      <th>5</th>\n",
       "      <td>2021-06-30</td>\n",
       "      <td>60</td>\n",
       "    </tr>\n",
       "    <tr>\n",
       "      <th>6</th>\n",
       "      <td>2021-07-31</td>\n",
       "      <td>65</td>\n",
       "    </tr>\n",
       "    <tr>\n",
       "      <th>7</th>\n",
       "      <td>2021-08-31</td>\n",
       "      <td>64</td>\n",
       "    </tr>\n",
       "    <tr>\n",
       "      <th>8</th>\n",
       "      <td>2021-09-30</td>\n",
       "      <td>50</td>\n",
       "    </tr>\n",
       "    <tr>\n",
       "      <th>9</th>\n",
       "      <td>2021-10-31</td>\n",
       "      <td>52</td>\n",
       "    </tr>\n",
       "    <tr>\n",
       "      <th>10</th>\n",
       "      <td>2021-11-30</td>\n",
       "      <td>57</td>\n",
       "    </tr>\n",
       "    <tr>\n",
       "      <th>11</th>\n",
       "      <td>2021-12-31</td>\n",
       "      <td>60</td>\n",
       "    </tr>\n",
       "  </tbody>\n",
       "</table>\n",
       "</div>"
      ],
      "text/plain": [
       "      periode  penjualan\n",
       "0  2021-01-31         20\n",
       "1  2021-02-28         22\n",
       "2  2021-03-31         28\n",
       "3  2021-04-30         35\n",
       "4  2021-05-31         45\n",
       "5  2021-06-30         60\n",
       "6  2021-07-31         65\n",
       "7  2021-08-31         64\n",
       "8  2021-09-30         50\n",
       "9  2021-10-31         52\n",
       "10 2021-11-30         57\n",
       "11 2021-12-31         60"
      ]
     },
     "execution_count": 7,
     "metadata": {},
     "output_type": "execute_result"
    }
   ],
   "source": [
    "dict_penjualan = {\n",
    "    'periode': pd.date_range(start=\"2021-01\", end=\"2022-01\", freq=\"1M\"),\n",
    "    'penjualan': penjualan\n",
    "}\n",
    "\n",
    "df = pd.DataFrame(dict_penjualan)\n",
    "df"
   ]
  },
  {
   "cell_type": "markdown",
   "metadata": {
    "id": "Lvwfs8tdE5B8"
   },
   "source": [
    "Dengan dataframe slicing, tampilkan data hanya pada bulan Juni, July, dan Agustus saja."
   ]
  },
  {
   "cell_type": "code",
   "execution_count": 8,
   "metadata": {
    "id": "gtfKS5vhHEme"
   },
   "outputs": [
    {
     "data": {
      "text/html": [
       "<div>\n",
       "<style scoped>\n",
       "    .dataframe tbody tr th:only-of-type {\n",
       "        vertical-align: middle;\n",
       "    }\n",
       "\n",
       "    .dataframe tbody tr th {\n",
       "        vertical-align: top;\n",
       "    }\n",
       "\n",
       "    .dataframe thead th {\n",
       "        text-align: right;\n",
       "    }\n",
       "</style>\n",
       "<table border=\"1\" class=\"dataframe\">\n",
       "  <thead>\n",
       "    <tr style=\"text-align: right;\">\n",
       "      <th></th>\n",
       "      <th>periode</th>\n",
       "      <th>penjualan</th>\n",
       "    </tr>\n",
       "  </thead>\n",
       "  <tbody>\n",
       "    <tr>\n",
       "      <th>5</th>\n",
       "      <td>2021-06-30</td>\n",
       "      <td>60</td>\n",
       "    </tr>\n",
       "    <tr>\n",
       "      <th>6</th>\n",
       "      <td>2021-07-31</td>\n",
       "      <td>65</td>\n",
       "    </tr>\n",
       "    <tr>\n",
       "      <th>7</th>\n",
       "      <td>2021-08-31</td>\n",
       "      <td>64</td>\n",
       "    </tr>\n",
       "  </tbody>\n",
       "</table>\n",
       "</div>"
      ],
      "text/plain": [
       "     periode  penjualan\n",
       "5 2021-06-30         60\n",
       "6 2021-07-31         65\n",
       "7 2021-08-31         64"
      ]
     },
     "execution_count": 8,
     "metadata": {},
     "output_type": "execute_result"
    }
   ],
   "source": [
    "# code disini\n",
    "df.iloc[5:8]"
   ]
  },
  {
   "cell_type": "markdown",
   "metadata": {
    "id": "ehS3ul69HFLa"
   },
   "source": [
    "## Question 6\n",
    "Plot data tabel diatas untuk menampilkan data penjualan satu tahun dengan lineplot. Apa yang bisa kalian simpulkan dari hasil plot tersebut?"
   ]
  },
  {
   "cell_type": "code",
   "execution_count": 9,
   "metadata": {
    "id": "daIEhS5IHPJT"
   },
   "outputs": [],
   "source": [
    "import matplotlib.pyplot as plt\n",
    "import seaborn as sns\n",
    "\n",
    "sns.set()"
   ]
  },
  {
   "cell_type": "code",
   "execution_count": 10,
   "metadata": {},
   "outputs": [],
   "source": [
    "def month (x):\n",
    "    if x == '2021-01-31':\n",
    "        month = 'Jan\\n2021'\n",
    "    elif x == '2021-02-28':\n",
    "        month = 'Feb'\n",
    "    elif x == '2021-03-31':\n",
    "        month = 'Mar'\n",
    "    elif x == '2021-04-30':\n",
    "        month = 'Apr'\n",
    "    elif x == '2021-05-31':\n",
    "        month = 'May'\n",
    "    elif x == '2021-06-30':\n",
    "        month = 'Jun'\n",
    "    elif x == '2021-07-31':\n",
    "        month = 'Jul'\n",
    "    elif x == '2021-08-31':\n",
    "        month = 'Aug'\n",
    "    elif x == '2021-09-30':\n",
    "        month = 'Sep'\n",
    "    elif x == '2021-10-31':\n",
    "        month = 'Oct'\n",
    "    elif x == '2021-11-30':\n",
    "        month = 'Nov'\n",
    "    else:\n",
    "        month = 'Dec'\n",
    "        \n",
    "    return month\n",
    "\n",
    "df['month_sales'] = df['periode'].astype(str).apply(month)"
   ]
  },
  {
   "cell_type": "code",
   "execution_count": 11,
   "metadata": {},
   "outputs": [
    {
     "data": {
      "text/html": [
       "<div>\n",
       "<style scoped>\n",
       "    .dataframe tbody tr th:only-of-type {\n",
       "        vertical-align: middle;\n",
       "    }\n",
       "\n",
       "    .dataframe tbody tr th {\n",
       "        vertical-align: top;\n",
       "    }\n",
       "\n",
       "    .dataframe thead th {\n",
       "        text-align: right;\n",
       "    }\n",
       "</style>\n",
       "<table border=\"1\" class=\"dataframe\">\n",
       "  <thead>\n",
       "    <tr style=\"text-align: right;\">\n",
       "      <th></th>\n",
       "      <th>periode</th>\n",
       "      <th>penjualan</th>\n",
       "      <th>month_sales</th>\n",
       "    </tr>\n",
       "  </thead>\n",
       "  <tbody>\n",
       "    <tr>\n",
       "      <th>0</th>\n",
       "      <td>2021-01-31</td>\n",
       "      <td>20</td>\n",
       "      <td>Jan\\n2021</td>\n",
       "    </tr>\n",
       "    <tr>\n",
       "      <th>1</th>\n",
       "      <td>2021-02-28</td>\n",
       "      <td>22</td>\n",
       "      <td>Feb</td>\n",
       "    </tr>\n",
       "    <tr>\n",
       "      <th>2</th>\n",
       "      <td>2021-03-31</td>\n",
       "      <td>28</td>\n",
       "      <td>Mar</td>\n",
       "    </tr>\n",
       "    <tr>\n",
       "      <th>3</th>\n",
       "      <td>2021-04-30</td>\n",
       "      <td>35</td>\n",
       "      <td>Apr</td>\n",
       "    </tr>\n",
       "    <tr>\n",
       "      <th>4</th>\n",
       "      <td>2021-05-31</td>\n",
       "      <td>45</td>\n",
       "      <td>May</td>\n",
       "    </tr>\n",
       "    <tr>\n",
       "      <th>5</th>\n",
       "      <td>2021-06-30</td>\n",
       "      <td>60</td>\n",
       "      <td>Jun</td>\n",
       "    </tr>\n",
       "    <tr>\n",
       "      <th>6</th>\n",
       "      <td>2021-07-31</td>\n",
       "      <td>65</td>\n",
       "      <td>Jul</td>\n",
       "    </tr>\n",
       "    <tr>\n",
       "      <th>7</th>\n",
       "      <td>2021-08-31</td>\n",
       "      <td>64</td>\n",
       "      <td>Aug</td>\n",
       "    </tr>\n",
       "    <tr>\n",
       "      <th>8</th>\n",
       "      <td>2021-09-30</td>\n",
       "      <td>50</td>\n",
       "      <td>Sep</td>\n",
       "    </tr>\n",
       "    <tr>\n",
       "      <th>9</th>\n",
       "      <td>2021-10-31</td>\n",
       "      <td>52</td>\n",
       "      <td>Oct</td>\n",
       "    </tr>\n",
       "    <tr>\n",
       "      <th>10</th>\n",
       "      <td>2021-11-30</td>\n",
       "      <td>57</td>\n",
       "      <td>Nov</td>\n",
       "    </tr>\n",
       "    <tr>\n",
       "      <th>11</th>\n",
       "      <td>2021-12-31</td>\n",
       "      <td>60</td>\n",
       "      <td>Dec</td>\n",
       "    </tr>\n",
       "  </tbody>\n",
       "</table>\n",
       "</div>"
      ],
      "text/plain": [
       "      periode  penjualan month_sales\n",
       "0  2021-01-31         20   Jan\\n2021\n",
       "1  2021-02-28         22         Feb\n",
       "2  2021-03-31         28         Mar\n",
       "3  2021-04-30         35         Apr\n",
       "4  2021-05-31         45         May\n",
       "5  2021-06-30         60         Jun\n",
       "6  2021-07-31         65         Jul\n",
       "7  2021-08-31         64         Aug\n",
       "8  2021-09-30         50         Sep\n",
       "9  2021-10-31         52         Oct\n",
       "10 2021-11-30         57         Nov\n",
       "11 2021-12-31         60         Dec"
      ]
     },
     "execution_count": 11,
     "metadata": {},
     "output_type": "execute_result"
    }
   ],
   "source": [
    "df.head(13)"
   ]
  },
  {
   "cell_type": "code",
   "execution_count": 12,
   "metadata": {
    "colab": {
     "base_uri": "https://localhost:8080/",
     "height": 313
    },
    "id": "YjmJO8b9HOBQ",
    "outputId": "a379d6a9-d8af-41ea-e096-a0019a99f4aa"
   },
   "outputs": [],
   "source": [
    "# tampilkan plot penjualan "
   ]
  },
  {
   "cell_type": "code",
   "execution_count": 13,
   "metadata": {},
   "outputs": [
    {
     "data": {
      "text/plain": [
       "<matplotlib.legend.Legend at 0x23f95f378b0>"
      ]
     },
     "execution_count": 13,
     "metadata": {},
     "output_type": "execute_result"
    },
    {
     "data": {
      "image/png": "[encoded data removed]",
      "text/plain": [
       "<Figure size 432x288 with 1 Axes>"
      ]
     },
     "metadata": {
      "needs_background": "light"
     },
     "output_type": "display_data"
    }
   ],
   "source": [
    "sns.set()\n",
    "plt.plot(df['month_sales'],df['penjualan'], label='penjualan')\n",
    "plt.xlim(xmin='Jan\\n2021', xmax='Dec')\n",
    "plt.xlabel('periode')\n",
    "plt.legend()"
   ]
  },
  {
   "cell_type": "markdown",
   "metadata": {
    "id": "gVeOWO2RHY8Z"
   },
   "source": [
    "# INTERPRETATION\n",
    "\n",
    "Dalam 6 bulan pertama penjualan selalu mengalami kenaikan di tiap bulannya. Tetapi 2 bulan berikutnya tepatnya di bulan Agustus-September, penjualan mengalami penurunan. Meskipun begitu pada bulan berikutnya hingga Desember penjualan dapat naik kembali. Penjualan terbanyak terjadi di bulan Juli 2021 "
   ]
  }
 ],
 "metadata": {
  "colab": {
   "provenance": []
  },
  "kernelspec": {
   "display_name": "Python 3 (ipykernel)",
   "language": "python",
   "name": "python3"
  },
  "language_info": {
   "codemirror_mode": {
    "name": "ipython",
    "version": 3
   },
   "file_extension": ".py",
   "mimetype": "text/x-python",
   "name": "python",
   "nbconvert_exporter": "python",
   "pygments_lexer": "ipython3",
   "version": "3.10.7"
  }
 },
 "nbformat": 4,
 "nbformat_minor": 4
}
